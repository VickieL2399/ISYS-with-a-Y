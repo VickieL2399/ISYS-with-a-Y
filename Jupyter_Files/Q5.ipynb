{
 "cells": [
  {
   "cell_type": "code",
   "execution_count": null,
   "id": "d4e34229",
   "metadata": {},
   "outputs": [],
   "source": [
    "#Question 2: Is there a premium for dealers selling their cars on this platform compared to private sellers?\n",
    "    #Analyze the listing price between private sellers and dealers\n",
    "        #Average price of all Hondas sold from dealers vs private\n",
    "    #How to compare the listing prices apple to apple\n",
    "        #By make\n",
    "        #\"avg price of all Hondas sold from dealer vs avg price of all Hondas sold privately\""
   ]
  },
  {
   "cell_type": "code",
   "execution_count": null,
   "id": "6d5fcde7",
   "metadata": {},
   "outputs": [],
   "source": [
    "brand_names = car_sale_data['Make'].unique()\n",
    "\n",
    "for Makes in brand_names:\n",
    "    print(Makes)"
   ]
  },
  {
   "cell_type": "code",
   "execution_count": null,
   "id": "2554dd2b",
   "metadata": {},
   "outputs": [],
   "source": [
    "honda = car_sale_data[(car_sale_data['Make'] == 'Honda' )]\n",
    "\n",
    "sns.barplot(data=honda, x='Year', y='Price', hue='SellerType')"
   ]
  },
  {
   "cell_type": "code",
   "execution_count": null,
   "id": "dda836ed",
   "metadata": {},
   "outputs": [],
   "source": []
  }
 ],
 "metadata": {
  "kernelspec": {
   "display_name": "Python 3 (ipykernel)",
   "language": "python",
   "name": "python3"
  },
  "language_info": {
   "codemirror_mode": {
    "name": "ipython",
    "version": 3
   },
   "file_extension": ".py",
   "mimetype": "text/x-python",
   "name": "python",
   "nbconvert_exporter": "python",
   "pygments_lexer": "ipython3",
   "version": "3.9.13"
  }
 },
 "nbformat": 4,
 "nbformat_minor": 5
}
