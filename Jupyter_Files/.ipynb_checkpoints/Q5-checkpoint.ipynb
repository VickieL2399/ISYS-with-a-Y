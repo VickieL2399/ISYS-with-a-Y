{
 "cells": [
  {
   "cell_type": "code",
   "execution_count": null,
   "id": "9e5a8423",
   "metadata": {},
   "outputs": [],
   "source": [
    "#Question 5: Is there a connection between vehicle make and consumer rating?\n",
    "    #Analyze the listing price between private sellers and dealers\n",
    "        #Average price of all Hondas sold from dealers vs private\n",
    "    #How to compare the listing prices apple to apple\n",
    "        #By make\n",
    "        #\"avg price of all Hondas sold from dealer vs avg price of all Hondas sold privately\""
   ]
  },
  {
   "cell_type": "code",
   "execution_count": null,
   "id": "0b40d4c3",
   "metadata": {},
   "outputs": [],
   "source": [
    "brand_names = car_sale_data['Make'].unique()\n",
    "\n",
    "for Makes in brand_names:\n",
    "    print(Makes)"
   ]
  },
  {
   "cell_type": "code",
   "execution_count": null,
   "id": "93dcf916",
   "metadata": {},
   "outputs": [],
   "source": [
    "honda = car_sale_data[(car_sale_data['Make'] == 'Honda' )]\n",
    "\n",
    "sns.barplot(data=honda, x='Year', y='Price', hue='SellerType')"
   ]
  },
  {
   "cell_type": "code",
   "execution_count": null,
   "id": "9b075db1",
   "metadata": {},
   "outputs": [],
   "source": []
  }
 ],
 "metadata": {
  "kernelspec": {
   "display_name": "Python 3 (ipykernel)",
   "language": "python",
   "name": "python3"
  },
  "language_info": {
   "codemirror_mode": {
    "name": "ipython",
    "version": 3
   },
   "file_extension": ".py",
   "mimetype": "text/x-python",
   "name": "python",
   "nbconvert_exporter": "python",
   "pygments_lexer": "ipython3",
   "version": "3.9.13"
  }
 },
 "nbformat": 4,
 "nbformat_minor": 5
}
