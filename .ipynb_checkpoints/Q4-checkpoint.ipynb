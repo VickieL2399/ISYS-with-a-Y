{
 "cells": [
  {
   "cell_type": "code",
   "execution_count": 1,
   "id": "6f604a40-0727-4b88-9a6d-f531e4578200",
   "metadata": {},
   "outputs": [
    {
     "data": {
      "text/plain": [
       "9379"
      ]
     },
     "execution_count": 1,
     "metadata": {},
     "output_type": "execute_result"
    }
   ],
   "source": [
    "import sqlite3\n",
    "import pandas as pd\n",
    "\n",
    "conn = sqlite3.Connection('car_sales.db')\n",
    "\n",
    "df = pd.read_csv('Online_Cars_Sale_Marketplace_Data.csv')\n",
    "df.to_sql('car_sales', conn, if_exists='replace', index=False)"
   ]
  },
  {
   "cell_type": "code",
   "execution_count": 2,
   "id": "6b1b949b-822a-4e1d-bc8e-e2b2ae91608f",
   "metadata": {},
   "outputs": [
    {
     "data": {
      "text/html": [
       "<div>\n",
       "<style scoped>\n",
       "    .dataframe tbody tr th:only-of-type {\n",
       "        vertical-align: middle;\n",
       "    }\n",
       "\n",
       "    .dataframe tbody tr th {\n",
       "        vertical-align: top;\n",
       "    }\n",
       "\n",
       "    .dataframe thead th {\n",
       "        text-align: right;\n",
       "    }\n",
       "</style>\n",
       "<table border=\"1\" class=\"dataframe\">\n",
       "  <thead>\n",
       "    <tr style=\"text-align: right;\">\n",
       "      <th></th>\n",
       "      <th>total_cars</th>\n",
       "      <th>count_of_used_cars</th>\n",
       "      <th>count_of_certified_cars</th>\n",
       "    </tr>\n",
       "  </thead>\n",
       "  <tbody>\n",
       "    <tr>\n",
       "      <th>0</th>\n",
       "      <td>9379</td>\n",
       "      <td>7900</td>\n",
       "      <td>1479</td>\n",
       "    </tr>\n",
       "  </tbody>\n",
       "</table>\n",
       "</div>"
      ],
      "text/plain": [
       "   total_cars  count_of_used_cars  count_of_certified_cars\n",
       "0        9379                7900                     1479"
      ]
     },
     "execution_count": 2,
     "metadata": {},
     "output_type": "execute_result"
    }
   ],
   "source": [
    "# Question 4: How many certified car listing versus cars that are used?\n",
    "\n",
    "q0 = \"\"\"\n",
    "SELECT \n",
    "(SELECT COUNT('Used/New') FROM car_sales) as total_cars,\n",
    "(SELECT COUNT(\"Used/New\") FROM car_sales WHERE \"Used/New\" = 'Used') as count_of_used_cars,\n",
    "(SELECT COUNT(\"Used/New\") FROM car_sales WHERE \"Used/New\" LIKE '%Certified%') as count_of_certified_cars\n",
    ";\n",
    "\n",
    "\"\"\"\n",
    "\n",
    "pd.read_sql(q0, conn)"
   ]
  },
  {
   "cell_type": "code",
   "execution_count": 3,
   "id": "3a57b83d-9d23-468b-9b8e-f6a55a0a6ac5",
   "metadata": {},
   "outputs": [
    {
     "data": {
      "text/html": [
       "<div>\n",
       "<style scoped>\n",
       "    .dataframe tbody tr th:only-of-type {\n",
       "        vertical-align: middle;\n",
       "    }\n",
       "\n",
       "    .dataframe tbody tr th {\n",
       "        vertical-align: top;\n",
       "    }\n",
       "\n",
       "    .dataframe thead th {\n",
       "        text-align: right;\n",
       "    }\n",
       "</style>\n",
       "<table border=\"1\" class=\"dataframe\">\n",
       "  <thead>\n",
       "    <tr style=\"text-align: right;\">\n",
       "      <th></th>\n",
       "      <th>percentage_of_used</th>\n",
       "      <th>percentage_of_certified</th>\n",
       "    </tr>\n",
       "  </thead>\n",
       "  <tbody>\n",
       "    <tr>\n",
       "      <th>0</th>\n",
       "      <td>84.23</td>\n",
       "      <td>15.77</td>\n",
       "    </tr>\n",
       "  </tbody>\n",
       "</table>\n",
       "</div>"
      ],
      "text/plain": [
       "   percentage_of_used  percentage_of_certified\n",
       "0               84.23                    15.77"
      ]
     },
     "execution_count": 3,
     "metadata": {},
     "output_type": "execute_result"
    }
   ],
   "source": [
    "# Subquestion 4.1: How many percentage are certified cars and used cars?\n",
    "q1 = \"\"\"\n",
    "SELECT \n",
    "ROUND((SELECT COUNT(\"Used/New\") FROM car_sales WHERE \"Used/New\" = 'Used') * 100.0 / (SELECT COUNT(\"Used/New\") FROM car_sales), 2) AS percentage_of_used,\n",
    "ROUND((SELECT COUNT(\"Used/New\") FROM car_sales WHERE \"Used/New\" LIKE '%Certified%') * 100.0 / (SELECT COUNT(\"Used/New\") FROM car_sales), 2) AS percentage_of_certified;\n",
    "\"\"\"\n",
    "\n",
    "pd.read_sql(q1, conn)"
   ]
  },
  {
   "cell_type": "code",
   "execution_count": null,
   "id": "681ce03c-a3f6-4a2e-9d9f-e084a8fdae1e",
   "metadata": {},
   "outputs": [],
   "source": [
    "# Subquestion 4.2: How many \"new\" cars are availiable? \n",
    "\n",
    "# From our initial finding, we found out that this dealship doesn't currently offer any new cars but rather used and certified cars.\n",
    "# This is the main reason why we never incorporate any \"new\" cars in our queries. \n",
    "\n",
    "q2 = \"\"\"\n",
    "SELECT \"Used/New\", COUNT(*)\n",
    "FROM car_sales\n",
    "GROUP BY \"Used/New\" \n",
    ";\n",
    "\"\"\"\n",
    "pd.read_sql(q2, conn)"
   ]
  }
 ],
 "metadata": {
  "kernelspec": {
   "display_name": "Python 3 (ipykernel)",
   "language": "python",
   "name": "python3"
  },
  "language_info": {
   "codemirror_mode": {
    "name": "ipython",
    "version": 3
   },
   "file_extension": ".py",
   "mimetype": "text/x-python",
   "name": "python",
   "nbconvert_exporter": "python",
   "pygments_lexer": "ipython3",
   "version": "3.9.13"
  }
 },
 "nbformat": 4,
 "nbformat_minor": 5
}
